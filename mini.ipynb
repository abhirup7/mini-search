{
 "cells": [
  {
   "cell_type": "code",
   "execution_count": 13,
   "id": "a1c0b9c2",
   "metadata": {},
   "outputs": [],
   "source": [
    "import json\n",
    "import os\n",
    "import time\n",
    "from typing import Any, Dict, List\n",
    "\n",
    "import faiss\n",
    "import numpy as np\n",
    "import pandas as pd\n",
    "from datasets import load_dataset\n",
    "from sentence_transformers import SentenceTransformer\n",
    "from sentence_transformers.datasets import SentencesDataset\n",
    "from sklearn.metrics.pairwise import cosine_similarity"
   ]
  },
  {
   "cell_type": "code",
   "execution_count": null,
   "id": "b6b039b0",
   "metadata": {},
   "outputs": [],
   "source": [
    "\n",
    "model = {\n",
    "    'all-MiniLM-L6-v2': SentenceTransformer('all-MiniLM-L6-v2'),\n",
    "}"
   ]
  },
  {
   "cell_type": "code",
   "execution_count": null,
   "id": "3104be7f",
   "metadata": {},
   "outputs": [
    {
     "name": "stdout",
     "output_type": "stream",
     "text": [
      "Loaded embedding models: ['all-MiniLM-L6-v2']\n"
     ]
    }
   ],
   "source": [
    "print(\"Loaded embedding models:\", list(model.keys()))"
   ]
  },
  {
   "cell_type": "code",
   "execution_count": null,
   "id": "dea5b91d",
   "metadata": {},
   "outputs": [
    {
     "name": "stdout",
     "output_type": "stream",
     "text": [
      "=== DOCUMENT EMBEDDINGS ===\n",
      "Document embeddings shape: (8, 384)\n",
      "\n",
      "=== QUERY TESTING ===\n",
      "\n",
      "Query: 'What is AI and machine learning?'\n",
      "Top 3 matches:\n",
      "  1. Score: 0.7654 - 'Machine learning is a subset of artificial intelligence'\n",
      "  2. Score: 0.4179 - 'Computer vision enables machines to interpret visual data'\n",
      "  3. Score: 0.3716 - 'Deep learning uses neural networks with multiple layers'\n",
      "\n",
      "Query: 'How do neural networks work?'\n",
      "Top 3 matches:\n",
      "  1. Score: 0.5788 - 'Deep learning uses neural networks with multiple layers'\n",
      "  2. Score: 0.3732 - 'Computer vision enables machines to interpret visual data'\n",
      "  3. Score: 0.3636 - 'Machine learning is a subset of artificial intelligence'\n",
      "\n",
      "Query: 'Programming languages for data'\n",
      "Top 3 matches:\n",
      "  1. Score: 0.6775 - 'Python is a popular programming language for data science'\n",
      "  2. Score: 0.3591 - 'Natural language processing helps computers understand text'\n",
      "  3. Score: 0.2917 - 'JavaScript is used for web development'\n",
      "\n",
      "Query: 'Food and restaurants'\n",
      "Top 3 matches:\n",
      "  1. Score: 0.3720 - 'I love eating pizza and pasta'\n",
      "  2. Score: 0.1432 - 'Deep learning uses neural networks with multiple layers'\n",
      "  3. Score: 0.1392 - 'Machine learning is a subset of artificial intelligence'\n"
     ]
    }
   ],
   "source": [
    "documents = [\n",
    "    \"Machine learning is a subset of artificial intelligence\",\n",
    "    \"Deep learning uses neural networks with multiple layers\",\n",
    "    \"Natural language processing helps computers understand text\",\n",
    "    \"Computer vision enables machines to interpret visual data\",\n",
    "    \"Python is a popular programming language for data science\",\n",
    "    \"JavaScript is used for web development\",\n",
    "    \"The weather is sunny today\",\n",
    "    \"I love eating pizza and pasta\"\n",
    "]\n",
    "\n",
    "queries = [\n",
    "    \"What is AI and machine learning?\",\n",
    "    \"How do neural networks work?\",\n",
    "    \"Programming languages for data\",\n",
    "    \"Food and restaurants\"\n",
    "]\n",
    "\n",
    "print(\"=== DOCUMENT EMBEDDINGS ===\")\n",
    "\n",
    "doc_embeddings = model['all-MiniLM-L6-v2'].encode(documents)\n",
    "print(f\"Document embeddings shape: {doc_embeddings.shape}\")\n",
    "\n",
    "print(\"\\n=== QUERY TESTING ===\")\n",
    "for query in queries:\n",
    "    print(f\"\\nQuery: '{query}'\")\n",
    "    \n",
    "    query_embedding = model['all-MiniLM-L6-v2'].encode([query])\n",
    "    \n",
    "    similarities = cosine_similarity(query_embedding, doc_embeddings)[0]\n",
    "    \n",
    "    # Get top 3 most similar documents\n",
    "    top_indices = np.argsort(similarities)[::-1][:3]\n",
    "    \n",
    "    print(\"Top 3 matches:\")\n",
    "    for i, idx in enumerate(top_indices):\n",
    "        print(f\"  {i+1}. Score: {similarities[idx]:.4f} - '{documents[idx]}'\")"
   ]
  },
  {
   "cell_type": "code",
   "execution_count": null,
   "id": "add3213c",
   "metadata": {},
   "outputs": [
    {
     "name": "stderr",
     "output_type": "stream",
     "text": [
      "Generating train split: 100%|██████████| 205328/205328 [00:00<00:00, 782675.20 examples/s]"
     ]
    },
    {
     "name": "stdout",
     "output_type": "stream",
     "text": [
      "Loaded 100 Wikipedia documents\n"
     ]
    },
    {
     "name": "stderr",
     "output_type": "stream",
     "text": [
      "\n"
     ]
    }
   ],
   "source": [
    "wiki_sample = load_dataset(\"wikipedia\", \"20220301.simple\", split=\"train[:100]\", trust_remote_code=True)\n",
    "documents = [doc['text'][:500] for doc in wiki_sample]  # First 500 chars\n",
    "\n",
    "print(f\"Loaded {len(documents)} Wikipedia documents\")"
   ]
  },
  {
   "cell_type": "code",
   "execution_count": 14,
   "id": "52a0d5cd",
   "metadata": {},
   "outputs": [
    {
     "data": {
      "text/plain": [
       "[\"April is the fourth month of the year in the Julian and Gregorian calendars, and comes between March and May. It is one of four months to have 30 days.\\n\\nApril always begins on the same day of week as July, and additionally, January in leap years. April always ends on the same day of the week as December.\\n\\nApril's flowers are the Sweet Pea and Daisy. Its birthstone is the diamond. The meaning of the diamond is innocence.\\n\\nThe Month \\n\\nApril comes between March and May, making it the fourth month o\",\n",
       " 'August (Aug.) is the eighth month of the year in the Gregorian calendar, coming between July and September. It has 31 days. It is named after the Roman emperor Augustus Caesar.\\n\\nAugust does not begin on the same day of the week as any other month in common years, but begins on the same day of the week as February in leap years. August always ends on the same day of the week as November.\\n\\nThe Month \\n\\nThis month was first called Sextilis in Latin, because it was the sixth month in the old Roman ca',\n",
       " \"Art is a creative activity that expresses imaginative or technical skill. It produces a product, an object. Art is a diverse range of human activities in creating visual, performing artifacts, and expressing the author's imaginative mind. The product of art is called a work of art, for others to experience.\\n\\nSome art is useful in a practical sense, such as a sculptured clay bowl that can be used. That kind of art is sometimes called a craft.\\n\\nThose who make art are called artists. They hope to a\",\n",
       " 'A or a is the first letter of the English alphabet. The small letter, a or α, is used as a lower case vowel. \\n\\nWhen it is spoken,  ā is said as a long a, a diphthong of ĕ and y. A is similar to  alpha of the Greek alphabet. That is not surprising, because it stands for the same sound. \\n\\n\"Alpha and omega\" (the last letter of the Greek alphabet) means from beginning to the end. In musical notation, the letter A is the symbol of a note in the scale, below B and above G. In binary numbers, the lette',\n",
       " \"Air refers to the Earth's atmosphere. Air is a mixture of many gases and tiny dust particles. It is the clear gas in which living things live and breathe. It has an indefinite shape and volume. It has mass and weight, because it is matter. The weight of air creates atmospheric  pressure. There is no air in outer space. \\n\\nAir is a mixture of about 78% of nitrogen, 21% of oxygen, 0.9% of argon, 0.04% of carbon dioxide, and very small amounts of other gases.  There is an average of about 1% water v\",\n",
       " 'Spain is divided in 17 parts called autonomous communities. Autonomous means that each of these autonomous communities has its own executive, legislative judicial powers. These are similar to, but not the same as, states in the United States of America, for example.\\n\\nSpain has fifty smaller parts called provinces. In 1978 these parts came together, making the autonomous communities. \\nBefore then, some of these provinces were together but were broken. The groups that were together once before are',\n",
       " 'Alan Mathison Turing OBE FRS (London, 23 June 1912 – Wilmslow, Cheshire, 7 June 1954) was an English mathematician and computer scientist. He was born in Maida Vale, London.\\n\\nEarly life and family \\nAlan Turing was born in Maida Vale, London on 23 June 1912. His father was part of a family of merchants from Scotland. His mother, Ethel Sara, was the daughter of an engineer.\\n\\nEducation \\nTuring went to St. Michael\\'s, a school at 20 Charles Road, St Leonards-on-sea, when he was five years old.\\n\"This ',\n",
       " \"Alanis Nadine Morissette (born June 1, 1974) is a Grammy Award-winning Canadian-American singer and songwriter. She was born in Ottawa, Canada. She began singing in Canada as a teenager in 1990. In 1995, she became popular all over the world.\\n\\nAs a young child in Canada, Morissette began to act on television, including 5 episodes of the long-running series, You Can't Do That on Television. Her first album was released only in Canada in 1990.\\n\\nHer first international album was Jagged Little Pill,\",\n",
       " 'Adobe Illustrator is a computer program for making graphic design and illustrations. It is made by Adobe Systems. Pictures created in Adobe Illustrator can be made bigger or smaller, and look exactly the same at any size. It works well with the rest of the products with the Adobe name.\\n\\nHistory\\nIt was first released in 1986 for the Apple Macintosh. The latest version is Adobe Illustrator CS6, part of Creative Suite 6.\\n\\nRelease history\\n\\nReferences\\n\\nVector graphics editors\\nAdobe software',\n",
       " 'Andouille is a type of pork sausage. It is spicy (hot in taste) and smoked. There are different kinds, all with different combinations of pork meat, fat, intestines (tubes going to the stomach), and tripe (the wall of the stomach).\\n\\nOther sorts are \"French andouille\" and \"German andouille\"; they are less spicy than Cajun. Cajun has extra salt, black pepper, and garlic. Andouille makers smoke the sausages over pecan wood and sugar cane for a maximum of seven or eight hours, at about 175 degrees F',\n",
       " 'Farming is growing crops and keeping animals  for food and raw materials. Farming is a part of agriculture. \\n\\nAgriculture started thousands of years ago, but no one knows for sure how old it is. The development of farming gave rise to the Neolithic Revolution as people gave up nomadic hunting and became settlers in cities. \\n\\nAgriculture and domestication probably started in the Fertile Crescent (the Nile Valley, the Levant and Mesopotamia). The area called Fertile Crescent is now in the countrie',\n",
       " 'In mathematics, arithmetic is the basic study of numbers. The four basic arithmetic operations are addition, subtraction, multiplication, and division, although other operations such as exponentiation and extraction of roots are also studied in arithmetic.\\n\\nOther arithmetic topics includes working with signed numbers, fractions,  decimals and percentages.\\n\\nMost people learn arithmetic in primary school, but some people do not learn arithmetic and others forget the arithmetic they learned. Many j',\n",
       " 'In mathematics, addition, represented by the symbol , is an operation which combines two mathematical objects together into another mathematical object of the same type, called the sum. Addition can occur with simple objects such as numbers, and more complex objects such as vectors and matrices.\\n\\nArithmetic \\n\\nIn arithmetic, addition is finding the total of two or more numbers. The sign for addition is \"+\", and the name for the sign \"+\" is \"plus\". Another name for the total is the sum.\\n\\nCounting ',\n",
       " \"Australia, formally the Commonwealth of Australia, is a country and sovereign state in the southern hemisphere, located in Oceania. Its capital city is Canberra, and its largest city is Sydney.\\n\\nAustralia is the sixth biggest country in the world by land area, and is part of the Oceanic and Australasian regions. Australia, New Zealand, New Guinea and other islands on the Australian tectonic plate are together called Australasia, which is one of the world's great ecozones. When other Pacific isla\",\n",
       " 'American English or US English is the dialect of the English language spoken in the United States of America.  It is different in some ways from other types of English, such as British English. Most types of American English came from local dialects in England.\\n\\nUse \\nMany people today know about American English even if they live in a country where another type of English is spoken. This may be because people hear and read American English through the media, for example movies, television, and t',\n",
       " 'Aquaculture is the farming of fish, shrimp, abalones, algae, and other seafood.  Aquaculture supplies fish, such as catfish, salmon, and trout.  It was developed a few thousand years ago in China.  Aquaculture supplies over 20% of all the seafood harvested. \\n\\nFish farming has been practiced, in some parts of the world, for thousands of years. Goldfish originated about a thousand years ago in carp farms in China, and the Roman Empire farmed oysters and other seafood.  Today, half of the seafood e',\n",
       " \"An abbreviation is a shorter way to write a word or phrase. People use abbreviations for words that they write a lot. The English language occasionally uses the apostrophe mark ' to show that a word is written in a shorter way, but some abbreviations do not use this mark. More often, they use periods, especially the ones that come from the Latin language. Common Latin abbreviations include i.e. [id est] that is, e.g. [exempli gratia] for example, and et al. [et alia] and others.\\n\\nSome new abbrev\",\n",
       " 'In many mythologies and religions, an angel is a good spirit. The word angel comes from the Greek word angelos which means \"messenger\".  Angels appear frequently in the Old Testament, the New Testament, Qur\\'an and Aqdas.\\n\\nDifferent references to angels throughout the Bible suggest different kinds and ranks of angels, such as seraphs or cherubs. This resulted in medieval theologians outlining a hierarchy of such divine messengers, including not only cherubs or cherubim (the Hebrew plural) and ser',\n",
       " 'Ad hominem is a Latin word for a type of argument. It is a word often used in rhetoric. Rhetoric is the science of speaking well, and convincing other people of your ideas.\\n\\nTranslated to English, ad hominem means against the person. In other words, when someone makes an ad hominem, they are attacking the person they are arguing against, instead of what they are saying.\\n\\nThe term comes from the Latin word homo, which means human. Hominem is a gender neutral version of the word homo. In ancient R',\n",
       " 'Native Americans (also called Aboriginal Americans, American Indians, Amerindians or indigenous peoples of the Americas) are the people and their descendants, who were in the Americas when Europeans arrived.\\n\\nSometimes these people are called Indians, but this may be confusing, because it is the same word used for people from India. When Christopher Columbus explored, he did not know about the Americas. He was in the Caribbean but thought he was in the East Indies, so he called the people Indian',\n",
       " 'Apple is the edible fruit of a number of trees, known for this juicy, green or red fruits. The tree (Malus spp.) is grown worldwide. Its fruit is low-cost and popular, and is harvested all over the world. \\n\\nApplewood is a type of wood that comes from this tree.\\n\\nThe apple tree comes from southern Kazakhstan, Kyrgyzstan, Uzbekistan, and northwestern part of China. Apples have been grown for thousands of years in Asia and Europe. They were brought to North America by European settlers. Apples have',\n",
       " \"An Abrahamic Religion is a religion whose followers believe in the prophet Abraham. They believe Abraham and his sons/grandsons hold an important role in human spiritual development. The best known Abrahamic religions are Judaism, Christianity and Islam. Smaller religious traditions sometimes included as Abrahamic religions are Samaritanism, Druze, Rastafari, Babism and Bahá'í Faith. Mandaeism (a religion that holds many Abrahamic beliefs) is not called Abrahamic because its followers think Abra\",\n",
       " 'Algebra (from Arabic: الجبر\\u200e, transliterated \"al-jabr\", meaning \"reunion of broken parts\") is a part of mathematics. It uses variables to represent a value that is not yet known. When an equals sign (=) is used, this is called an equation. A very simple equation using a variable is: . In this example, , or it could also be said that \" equals five\". This is called solving for .\\n\\nBesides equations, there are inequalities (less than and greater than). A special type of equation is called the functi',\n",
       " 'Atoms are very small pieces of matter. There are many different types of atoms, each with its own name, mass and size.  These different types of atoms are called chemical elements.  The chemical elements are organized on the periodic table.  Examples of elements are hydrogen, carbon, chlorine, and gold etc.\\n\\nAtoms are very small, but their exact size depends on the element.  Atoms range from 0.1 to 0.5 nanometers in width. One nanometer is about 100,000 times smaller than the width of a human ha',\n",
       " 'Astronomy (from the Greek astron (ἄστρον) meaning \"star\" and nomos (nόμος) meaning \"law\") is the scientific study of celestial bodies. The patterns in the night sky are called constellations.\\n\\nThe objects studied include stars, galaxies, planets, moons, asteroids, comets and nebulae.  Phenomena that are studied include supernovae explosions, gamma ray bursts, and cosmic microwave background radiation.  Astronomy concerns the development, physics, chemistry, meteorology and movement of celestial ',\n",
       " 'Architecture is designing the structures of buildings. It uses both art and engineering. Examples include houses, churches, hotels, office buildings, roads, viaducts, tunnels and bridges. \\n\\nArchitecture is the profession of an architect. Usually, a person must study at an institution of higher education (university) to become an architect. There were architects long before there was higher education. They learnt by being an apprentice to an established architect. \\n\\nArchitecture can do small desi',\n",
       " 'Anatomy is the study of the bodies of people and other animals. Anatomy is the study of the inside of the body and outside the body. Anatomy notes the position and structure of organs such as muscles, glands and bones. A person who studies anatomy is an anatomist. \\n\\nThe history of anatomy dates back to 1600 BC when Egyptians began studying human anatomy. They discovered the functions of many organs like the liver, spleen, kidneys, heart etc. and were the first to discover the structure and funct',\n",
       " 'An asteroid is a space rock. It is a small object in the Solar System that travels around the Sun. It is like a planet but smaller. They range from very small (smaller than a car) to 600 miles (1000 km) across. A few asteroids have asteroid moon.\\n\\nThe name \"asteroid\" means \"like a star\" in the ancient Greek language. Asteroids may look like small stars in the sky, but they really do move around the Sun, while stars only seem to move because the Earth spins. Like planets, asteroids do not make th',\n",
       " \"Afghanistan, officially the Islamic Emirate of Afghanistan (Pashto/Dari: ), is a country in South Asia. It borders Pakistan in the south and east, Iran in the west, Turkmenistan, Uzbekistan and Tajikistan in the north, and China in the far northeast. Kabul serves as the country's capital city.\\n\\nAfghanistan is currently governed by the Taliban, after the collapse of the internationally recognized Islamic Republic of Afghanistan on 15 August 2021. In early times people passed through it with anima\",\n",
       " \"Angola, officially the Republic of Angola, is a country in southern Africa. It shares borders with Namibia in the south, the Democratic Republic of the Congo in the north, and Zambia in the east. Its west border touches the Atlantic Ocean. Its coastline is 1600 kilometers. Angola's capital is Luanda. The country has many natural resources. Angola is the seventh largest country in Africa,  The capital and most populated city of Angola is Luanda.\\nAngola is a member state of the African Union, the \",\n",
       " 'Argentina (officially the Argentine Republic)  is a country in South America. Argentina is the second-largest country in South America and the eighth-largest country in the world.\\n\\nSpanish is the most spoken language, and the official language, but many other languages are spoken. There are minorities speaking Italian, German, English, Quechua and even Welsh in Patagonia.\\n\\nIn eastern Argentina is Buenos Aires, the capital of Argentina, it is also one of the largest cities in the world. In order ',\n",
       " 'Austria (, ;  ), officially the\\xa0Republic of Austria ( ), is a country in Central Europe. Around Austria there are the countries of Germany, Czech Republic, Slovakia, Hungary, Slovenia, Italy, Switzerland, and Liechtenstein. Currently, the chancellor is Karl Nehammer The previous chancellor was Alexander Schallenberg (2021). Austria has been a member-state of the United Nations since 1955 the European Union since 1995 and OPEC since 2019.\\n\\nThe people in Austria speak German, a few also speak Hung',\n",
       " \"Armenia is officially the Republic of Armenia. It is a country in the South Caucasus region of Eurasia. It is in Eastern Europe and Western Asia on the Armenian Highlands,\\n\\nArmenia is bordered by Turkey to the west and Georgia to the north. The de facto independent Republic of Artsakh and Azerbaijan is to the east, and Iran and Azerbaijan's exclave of Nakhchivan to the south.\\n\\nArmenia is a multi-party, democratic nation-state in Asia.\\n\\nHistory\\nHayasa-Azzi may have played a significant role in th\",\n",
       " 'Archaeology, or archeology, is the study of the human past. It looks at remains and objects left by the people who lived long ago. These remains may include old coins, tools, buildings, and inscriptions. Archaeologists, the people who study archaeology, use these remains to understand how people lived.\\n\\nFieldwork \\n\\nWhen archaeologists do fieldwork, they look for remains, often by digging in the ground. As settlements (places where people lived in groups) change and grow, old buildings get buried',\n",
       " \"The word application has several uses.\\n\\nIn medicine, 'application' means putting some drug or ointment usually on the skin where it is absorbed into the human body.\\n\\nIn computer software, an application is a type of program which is designed for a particular function. Example: word processing.\\n \\nIn business or government, an application is a (usually paper) form filled out and handed in by a person seeking a privilege from a state or company, such as work, credit, some type of license or permit,\",\n",
       " 'Animals (or Metazoa) are living creatures with many cells. They are eukaryotes. Animals get energy from other living things. Usually they eat them or are parasites. Some have photosynthetic protists as symbionts. \\n\\nThe study of animals is called zoology. The study of ancient life is called palaeontology.\\n\\nMost animals are mobile, meaning they can move around. Animals take in oxygen, and give out carbon dioxide. This cellular respiration is part of their metabolism (chemical working). In both the',\n",
       " 'Acceleration is a measure of how fast velocity changes. Acceleration is the change of velocity divided by the change of time. Acceleration is a vector, and therefore includes both a size and a direction. Acceleration is also a change in speed and direction, there is:\\n\\nSpeed (a scalar quantity) (uses no direction)\\n\\n Distance is how far you traveled \\n Time is how long it took you to travel \\n Speed is how fast you are moving - Speed = Distance / Time \\n\\nVelocity (a vector quantity) (uses a direction',\n",
       " 'Black pudding is an English name for zwarte pudding.  It is food made by cooking down the blood of any mammal (usually pigs or cattle) with meat, fat or filler until it is thick enough to congeal (become firm or solid) when cooled.\\n\\nTypes of black pudding\\n\\nIn Great Britain, blood sausage is called  \"black pudding\". The ingredients include pig\\'s blood, suet, bread, barley and oatmeal. The most common kind of German Blutwurst is made from fatty pork meat, beef blood and filler such as barley. Thou',\n",
       " 'A boot device is used to start a computer.  It is named after a boot which fits on the foot.  The word bootstrap is also closely related, and means, to use something simpler to get something more complex to make itself work better. It comes from the English phrase \"pull yourself up by your own bootstraps.\"\\n\\nBefore a computer can operate normally, it must have operating system instructions that tell it how to perform basic functions.  A boot device loads the operating system into the memory of th',\n",
       " \"A boot is a type of footwear that protects the foot and ankle. Boots are higher and larger than shoes and sandals. Some boots are high enough to protect the calves (lower part of the leg) as well.  Some boots are held on with bootstraps or bootlaces.  Some also have spats or gaiters to keep water out.  Most have a very strong boot sole, the bottom part of a boot.\\n\\nTypes of boots \\n Rain boots (or rubber boots) are made from rubber or plastic. Rain boots protect a person's feet from water and rain\",\n",
       " \"Bankruptcy is a legal process which happens when a person or an organization does not have enough money to pay all of its debts.  Legally they are insolvent.\\n\\nWhere it is a person who cannot pay their debts, the person's creditors may ask the court to appoint a trustee in bankruptcy.   This is a professional accountant who is appointed by the court, to take control of the bankrupt person's assets.  Some assets are protected by law, but the trustee in bankruptcy will sell off all of the other ass\",\n",
       " 'Breakfast sausage is a type of fresh pork sausage made from seasoned ground meat mixed with bread crumbs. Breakfast sausage has a blander flavor than many other types of sausage, such as British or Italian-style sausages.\\n\\nUsing breakfast sausages\\nBreakfast sausages are not cured or smoked like other types of sausages, which means that they have to be cooked soon after they are purchased (unless they are frozen).  Uncooked sausages should be stored in the refrigerator or the freezer. Individuals',\n",
       " 'A browser is a name given to any animal, usually a herbivorous mammal, which eats leaves and shrubs rather than grass. It is contrasted with grazers, which eat grass.\\n\\nEcology\\nZoology',\n",
       " 'Beekeeping or apiculture is the farming of honeybees.\\n\\nUses \\nThe keeping of bees is usually, and has been in the past, for honey. That is becoming less true. Instead, it is more used for crop pollination and other products. These are wax and propolis.\\n\\nThere is only one queen bee in each hive and she is bigger than the rest. She lays all the eggs, which makes all the other bees in the hive her daughters and sons. However, they do not control the hive.\\n\\nTypes of beekeeping \\nThe largest beekeeping',\n",
       " 'British English or UK English is the dialect of the English language spoken in the United Kingdom. It is different in some ways from other types of English, such as American English. British English is widely spoken throughout most countries that were historically part of the British Empire.\\n\\nUse in other countries \\nAmerican English is used in the United States. In Canada, the accent sounds extremely similar to American English but with few exceptions (see Canadian English). Canada has mixed the',\n",
       " 'Being is also a present tense part of to be\\n\\nThe word being means a living person or animal. ‘Human being’ means the same as ’person’. Men, women, and children are human beings.\\n\\nSome people write stories or make movies about beings from other planets. Most religions talk about supernatural beings, for example spirits, angels, devils, gods, or God.\\n\\nPhilosophy\\nReligion',\n",
       " \"Beijing is the capital of the People's Republic of China. The city used to be known as Peking.  It is in the northern and eastern parts of the country. It is the world's most populous capital city.\\n\\nThe city of Beijing has played a very important role in the development of China. Many people from different cities and countries come to Beijing to look for better chances to find work. Nearly 15 million people live there. In 2008 Beijing hosted the Summer Olympic Games, and will host the 2022 Winte\",\n",
       " 'A bottle is a container used to carry liquids. Bottles can have many different sizes. Bottles are usually made of glass or plastic. Usually, Beer bottles are made of glass, and soft drinks are made of plastic.\\n\\nMilk, wine, lemonade, and water are often put into bottles.\\n\\nBasic English 850 words\\nContainers',\n",
       " 'The word berry is used for many different kinds of small fruits that have many seeds and can be used as food. Some examples are raspberry, strawberry, sutberry, lingonberry and blueberry.\\n\\nWhen botanists talk about berries, they mean a simple fruit produced from a single ovary. They sometimes call this true berry, to distinguish it from false berries. By that statement of how words are used, grapes or tomatoes are true berries.\\n\\nThe berry is the most common type of soft fruit in which the entire',\n",
       " 'Boil might mean:\\n\\nBoiling, heating a liquid to the point where it turns into gas\\nBoil, a type of Staphylococcal infection\\n\\nBasic English 850 words',\n",
       " \"A beard is the hair growing on the lower part of a man's face.\\n\\nThe hair that grows on the upper lip of some men is a mustache.  When a man has hair only below the lower lip and above the chin, it is called a soul patch.  Some men have a lot of hair and a big beard, and some have very little. In the modern world, many men shave part or all of their beards, or cut their beard so it does not get very long. Women with hirsutism will also have beards. \\n\\nSome animals also have hair like this, and peo\",\n",
       " 'In light, black is lack of all color.  In painting, however, the black pigment is the combination of all colors. In heraldry, black is called \"sable\". It is the opposite of white.\\n\\nOrigin of black\\nThe word \"black\" comes from Old English blæc (\"black, dark\", also, \"ink\"), from Proto-Germanic *blakkaz (\"burned\"), and from Proto-Indo-European *bhleg-. Black is the darkest color/tone on a scale.\\n\\nBlack in science\\nIn science, an object that is black absorbs the light that hits it. Because these objec',\n",
       " 'Bubonic plague is the best-known form of the disease plague, which is caused by the bacterium Yersinia pestis. The name bubonic plague is specific for this form of the disease, which enters through the skin, and travels through the lymphatic system.\\n\\nThe plague was spread by fleas on rats. This method of spreading disease is a zoonosis.\\n\\nIf the disease is left untreated, it kills about half its victims in three to seven days. The bubonic plague was the disease that caused the Black Death, which ',\n",
       " \"Biology  is the science that studies life, and living things, and the evolution of life. Living things include animals, plants, fungi (such as mushrooms), and microorganisms such as bacteria and archaea.\\n\\nThe term 'biology' is relatively modern. It was introduced in 1799 by a physician, Thomas Beddoes.\\n\\nPeople who study biology are called biologists. Biology looks at how animals and other living things behave and work, and what they are like. Biology also studies how organisms react with each ot\",\n",
       " 'Botany is the study of plants. It is a science. It is a branch of biology, and is also called plant biology. It is sometimes called phytology. Scientists who study botany are called botanists. They study how plants work.\\n\\nBranches of botany \\nAgronomy—Application of plant science to crop production\\nBryology—Mosses, liverworts, and hornworts\\nForestry—Forest management and related studies\\nHorticulture—Cultivated plants\\nMicropaleontology—Pollen and spores\\nMycology—Fungi\\nPaleobotany—Fossil plants\\nPhy',\n",
       " 'Belgium, officially the Kingdom of Belgium (Dutch: Koninkrijk België, German: Königreich Belgien, French: Royaume de Belgique), is a federal state in Western Europe. Belgium has an area of . Around 11 million people live in Belgium. It is a founding member of the European Union and is home to its headquarters. The capital city of Belgium is Brussels, where the European Union, NATO and other famous organisations are based.\\n\\nThere are three regions in Belgium:\\n Flanders is the name of the northern',\n",
       " \"Brazil (officially called Federative Republic of Brazil; how to say: ) is a country in South America. It is the world's fifth largest country. The country has about 209 million people. The capital of Brazil is Brasília. Brazil was named after brazilwood, which is a tree that once grew very well along the Brazilian coast.\\n\\nHistory \\n\\nThe first people to come to Brazil came around 9,000\\xa0B.C. That group of indigenous people is often called the South American Indians and probably came from North Amer\",\n",
       " 'Chemistry is a branch of  science that deals with chemical elements and compounds, and how they work together and change. In other words, chemistry is the branch of science that study fundamental properties of matter and chemical reactions.\\n\\nHistory\\nBefore 1600, people studied substances to figure out how to do things such as turn lead into gold, but no one managed to do that. This was called alchemy. After 1600, using the scientific method alchemists became chemists. Chemists separated the air ',\n",
       " 'Chemical compound, a chemical combination of two or more chemical elements\\n Compound word, a word made from two or more other words',\n",
       " 'Computer science deals with the theoretical foundations of computation and practical techniques for their application.\\nComputer science is the study of manipulating, managing, transforming and encoding information.\\n\\nThere are many different areas in computer science. Some areas consider problems in an abstract manner, while some need special machines, called computers.\\n\\nA person who works with computers will often need mathematics, science, and logic in order to design and work with computers.\\n\\n',\n",
       " 'A computer is a machine that uses electronics to input, process, store, and output data. Data is information such as numbers, words, and lists. Input of data means to read information from a keyboard, a storage device like a hard drive, or a sensor. The computer processes or changes the data by following the instructions in software programs. A computer program is a list of instructions the computer has to perform. Programs usually perform mathematical calculations, modify data, or move it aroun',\n",
       " 'Chinese might mean:\\n\\nAnything related to the country of China\\nChinese people, the people of China\\nChinese language\\nChinese characters, the symbols used to write the Chinese and Japanese languages',\n",
       " 'A continent is a large area of the land on Earth that is joined together.\\n\\nThere are no strict rules for what land is considered a continent, but in general it is agreed there are six or seven continents in the world, including Africa, Antarctica, Asia, Europe, North America, Oceania(or Australasia), and South America.\\n\\nDemography\\n\\nThe most populous continent by population is Asia, followed by Africa. The third most populous continent is Europe. The fourth most populous is North America, and the',\n",
       " 'The Greek classical elements are fire, air, water, and earth. In Greek philosophy, science and medicine, these make up a whole.\\n\\nFire is both hot and dry.\\nAir is both hot and wet.\\nWater is both cold and wet.\\nEarth is both cold and dry.\\n\\nThe image below has two squares on top of each other. The corners of one are the classical elements. The corners of the other are the properties.\\n\\nGalen said these elements were used by Hippocrates to describe the human body. The elements are linked to the four h',\n",
       " \"China ( Pinyin: Zhōngguó) is a cultural region, an ancient civilization, and a nation in East Asia. The official name is People's Republic of China.\\n\\nThe last Chinese Civil War (19271949) resulted in two different political powers today:\\n  The Republic of China (ROC) (since 1911),  commonly known as China since 1 January, 1911 to 25 October, 1971. Now commonly known as Taiwan, has controlled over the islands of Taiwan, Penghu, Kinmen, and Matsu.\\n  The People's Republic of China (PRC) (since 1949\",\n",
       " \"A country is a territory with distinct political boundaries and borders that claims sovereignty over a specific geographic area with a permanent population, controlled by its own government that enters relations with other states, or a piece of land that's under the control of its own government.\\n\\nThere is no universally accepted answer as to how many countries in the world there actually are, however the minimum answer is 193 for the 193 United Nations members.\\n\\nThis number can become bigger in\",\n",
       " 'Colchester is a town in the northern part of the English county of Essex. It has a population of 104,000 people. People believe that Colchester is the oldest Roman town in England.\\n\\nHistory \\n\\nBefore Roman times, Colchester was Camulodunon. This is a Celtic name that came from Camulos. Camulos was the Celtic god of war. The Romans called Colchester Camulodunum (written \"CAMVLODVNVM\") and made it the capital of Roman Britain. Colchester was attacked and burnt by Boudicca in 61 AD.  The Romans move',\n",
       " 'Cartography is making maps. It is part of geography. How people make maps is always changing. In the past, maps were drawn by hand, but today most printed maps are made using computers and people usually see maps on computer screens. Someone who makes maps is called a cartographer.\\n\\nMaking a map can be as simple as drawing a direction on a napkin, or as complicated as showing a whole country or world. Anyone can make a map, but cartographers spend their lives learning how to make better maps.\\n\\nF',\n",
       " 'A creator is a person who creates something.\\n\\nIn some religions (Judaism, Christianity, Islam) God (or Allah meaning the God in Arabic) is the most important and original creator of the whole universe - including Man who is made \"in his image\" (see Genesis) to observe it and control it like God. The idea that anything that a person is creating, like an idea, can be owned as property comes from the ethical traditions and legal codes that came from these religions.\\n\\nIn other traditions (Buddhism, ',\n",
       " 'Contact network may mean:\\nCreative network\\nSocial network\\nPower network',\n",
       " 'Chorizo is a pork (pig-meat) sausage which people first made in the Iberian Peninsula. It is made with large pieces of fatty pork, chili pepper and paprika. The special taste of this sausage comes from the mild Spanish paprika in it. \\n\\nIn the western hemisphere, the Mexican and Caribbean types are better known. These types of chorizo are made with smaller pieces of pork and different seasonings and peppers are used.\\n\\nCured smoked chorizo is edible and can be eaten without cooking. Fresh chorizo ',\n",
       " \"Creativity is the ability of a person or group to make something new and useful or valuable, or the process of making something new and useful or valuable. It happens in all areas of life - science, art, literature and music. As a personal ability it is very difficult to measure. The reason is that we don't understand the mental processes that help some people be more creative than others. Judging what is creative is also controversial. Some people say only things which are historically new are \",\n",
       " 'The Cathar faith was a version of Christianity. They were usually considered Gnostics. The word \\'Cathar\\' comes the Greek word katharos meaning \\'unpolluted\\' (from Tobias Churton, The Gnostics) or  \"the pure ones\".\\n\\nPrinciples \\nThe Cathars believed that the world had been made by a bad god.  They believed that this bad god had taken them from the good god and put them in the world, but inside their bodies there was a spirit, and that spirit needed to return to the good god.  They were famous for a',\n",
       " 'Cosmology is the branch of astronomy that deals with the origin, structure, evolution and space-time relationships of the universe. NASA defines cosmology as \"The study of the structure and changes in the present universe\". Another definition of cosmology is \"the study of the universe, and humanity\\'s place in it\".\\n\\nModern cosmology is dominated by the Big Bang theory, which brings together observational astronomy and particle physics. \\n\\nThough the word cosmology is recent (first used in 1730 in ',\n",
       " 'A church is a building that was constructed to allow people to meet to worship together. These people are usually Christians, or influenced by Christianity. Some other non-Christian religious groups also call their religious buildings churches, most notably Scientology.\\n\\nThe following description is about Roman Catholic churches, although some parts are the same in Episcopalian and Lutheran churches. Depending on the number of people that are in a community, the churches come in different sizes.',\n",
       " 'A city is a heavily inhabited community that may include structures, buildings, bridges, rivers or lakes, and landmarks.\\n\\nA city has many buildings and streets. It has houses, hotels, condominiums, and apartments for many people to live in, shops where they may buy things, places for people to work, and a government to run the city and keep law and order in the city. People live in cities because it is easy for them to find and do everything they want there. A city usually has a \"city center\" wh',\n",
       " 'Cooking is a process to make food ready to eat by heating it. Cooking can kill bacteria that may be in the food.\\n\\nRaw food is food that is not cooked. Some foods are good to eat raw.  Other foods are not good for the body when they are raw, so they must be cooked. Some foods are good to eat either raw or cooked.\\n\\nMethods\\nCooking is often done in a kitchen using a stove or an oven. It can also be done over a fire (for example, over a campfire or on a barbecue).\\n\\nThe heat for cooking can be made i',\n",
       " 'To chat is to talk about ordinary things that are not very important. A person can chat with another person, or to many people. People also use this word now for parts of the Internet where we can talk with many different people at the same time. Usually, people chat on the Internet in a chat room or messaging service like AOL Instant Messenger (AIM), Yahoo Messenger Windows Live Messenger or Tencent QQ. There are also programs which let people use different messaging services from one program, ',\n",
       " 'A cup is any kind of container used for holding liquid and drinking. These include:\\n\\nteacup\\npaper cup\\n\\nCup may also mean:\\n\\nMeasuring cup, a measuring instrument for liquids and powders, used primarily in cooking\\nCup (unit), a customary unit of volume and measure\\nCancer of unknown primary origin, form of cancer\\nThe cup of a brassière, the part that covers the breasts\\nA cup-shaped trophy or award for winning in a sport\\n\\nBasic English 850 words',\n",
       " 'A crime (or misdemeanor or felony) is an act done by a person which is against the laws of a country or region. A person who does this is called a criminal.\\n\\nThe basic idea of what things are called \"crimes\" is that they are thought to be things that might cause a problem for another person. Things like killing another person, injuring another person, or stealing from another person are crimes in most countries. Also, it can be a crime to have or sell contraband such as guns or illegal drugs.\\n\\nW',\n",
       " 'Time Cube was a personal website created on 1997 by Otis Eugene Ray. On that website, Ray explained his theory of everything, known as \"Time Cube\". It described the planet Earth as having a cubic symmetry, and time as rotating four \"corners\". He also said that all of modern physics is wrong. Scientists reject these ideas, saying that they make no sense and cannot be tested.\\n\\nThe Time Cube website was written in an angry and hateful voice. On his site, Ray said that not believing in Time Cube wou',\n",
       " \"The Census of Marine Life was a ten-year survey of life in the oceans, starting in 2000. Its head was Ron O'Dor of Dalhousie University in Halifax, Nova Scotia, Canada. It used data from researchers all over the world. More than 70 nations were involved and over a billion US dollars were spent on it.\\n\\nIt was a major work of marine ecology. It was founded by J. Frederick Grassle.\\n\\nThe purpose of the Census of Marine Life was to say what is alive in our seas and oceans.\\n\\nOther websites \\n Census of\",\n",
       " 'Maize or Indian corn (called corn in some countries) is Zea mays, a member of the grass family Poaceae. It is a cereal grain which was first grown by people in ancient Central America. Approximately 1 billion tonnes are harvested every year. However, little of this maize is eaten directly by humans. Most is used to make corn ethanol, animal feed and other maize products, such as corn starch and corn syrup.\\n\\nMaize is a leafy stalk whose kernels have seeds inside. It is an angiosperm, which means ',\n",
       " 'Civics is the study of government.  It most often refers to studying government in high school to prepare to be a good citizen.  In college, civics is usually called political science.  Since a city has the most unsimple government problems, the word for this study is like that for city.\\n\\nTheories of civics can be grouped as:\\n\\nAnarchist\\nCapitalist\\nDemocrat\\nGreen\\nLibertarian\\nRepublican\\n\\nPolitics',\n",
       " 'Calculus is a branch of mathematics that describes continuous change.\\n\\nThere are two different types of calculus. Differential calculus divides (differentiates) things into small (different) pieces, and tells us how they change from one moment to the next, while integral calculus joins (integrates) the small pieces together, and tells us how much of something is made, overall, by a series of changes. Calculus is used in many different sciences such as physics, astronomy, biology, engineering, ec',\n",
       " 'A coin is a piece of metal that is used as currency, or money. Coins have been made for about 2600 years. The first place to make coins was Lydia (modern Turkey). These coins were made of precious metals and allowed people to trade with a standard amount of metal.\\n\\nMost people use coins as currency. They usually have lower value than banknotes. Most are made in government mints.\\n\\nAppearance \\nMany coins have unique or complicated decorations; one side often has the picture of a famous or importan',\n",
       " 'A conceptual metaphor or cognitive metaphor is a metaphor which refers to one domain (group of ideas) in terms of another. For example, treating quantity in terms of direction:\\nPrices are rising.\\nI attacked every weak point in his argument. (Argument as war rather than enquiry or search for truth).\\nLife is a journey.\\nLove talked about as if it were war or competition.\\nTime talked about as if it were a path through space, or a quantity that can be saved or spent or wasted.\\n\\nThe idea of a conceptu',\n",
       " 'Crust is a piece of bread where the edge where it is harder and darker.\\n\\nCrust can also mean:\\nCrust (geology) - the outer solid layer of a planet such as the Earth but other planets also.\\nOn Earth the crust can be divided into: \\ncontinental crust on which the land of the planet Earth sits \\noceanic crust which forms most of the ocean floor',\n",
       " 'Comedy (from ), in modern times, is an entertainment with generally funny content. It is able to make people laugh. This definition was used for theatre plays, and was first used in Ancient Greece. Aristotle defined this as “Comedy is, as an imitation of characters of a lower type- not, however, in the full sense of the word bad, the ludicrous being merely a subdivision of the ugly. It consists in some defect or ugliness which is not painful or destructive. To take an obvious example, the comic ',\n",
       " 'A comet is a ball of mostly ice that moves around in outer space. Comets are often described as \"dirty snowballs\". They are very different from asteroids.  The orbital inclinations of comets are usually high and not near the ecliptic where most solar system objects are found. Most of them are long-period comets and come from the Kuiper belt. That is very far away from the Sun, but some of them also come near enough to Earth for us to see at night.  \\n\\nThey have long \"tails\", because the Sun melts',\n",
       " \"Cytology is the study of the cells, especially their appearance and structure. Cells are the small parts that make up all living things, and their effects on each other and their environment.\\n\\nThere are two types of cells. Prokaryotic cells do not have a clear and easy-to-see nucleus, and do not have a membrane, or wall, around them. Eukaryotic cells have an easy-to-see nucleus where all of the cell's functions take place, and a membrane around them. The main organelles of a cell and their uses \",\n",
       " \"A Christian () is a person who believes in Christianity, a monotheistic religion. Christianity is mostly about the life and teachings of Jesus Christ, in the New Testament and interpreted of prophesied in the Hebrew Bible/Old Testament.  Christianity is the world's largest religion, with 2.1 billion followers around the world. \\n\\nChristians consider the Holy Bible to be a sacred book, inspired by God.  The Holy Bible is a combination of the Hebrew Bible, or Torah, and a collection of writings cal\",\n",
       " 'Cheese is a dairy product that is made from milk. There are many types of cheese, such as cheddar, Swiss, and provolone. \\n\\nMany things affect the form, texture, colour and flavour of a cheese. These include the milk (cow or goat), if the milk has been pasteurized, the amount of butterfat, bacteria and mold in the cheese, how the cheese is made, how much fat is in the cheese, and how old the cheese is.\\n\\nOrigin \\nPeople have been making cheese since before history was written down. It is not known ',\n",
       " \"The constitution of a country (or a state) is a special type of law document that tells how its government is supposed to work. It tells how the country's leaders are to be chosen and how long they get to stay in office, how new laws are made and old laws are to be changed or removed based on law, what kind of people are allowed to vote and what other rights they are guaranteed, and how the constitution can be changed.\\n\\nLimits are put on the Government in how much power they have within the Cons\",\n",
       " 'A circle is a round, two-dimensional shape. All points on the edge of the circle are at the same distance from the center. \\n\\nThe radius of a circle is a line from the center of the circle to a point on the side. Mathematicians use the letter  for the length of a circle\\'s radius. The center of a circle is the point in the very middle. It is often written as .\\n\\nThe diameter (meaning \"all the way across\") of a circle is a straight line that goes from one side to the opposite and right through the c',\n",
       " 'Capitalise (British spelling) or capitalize (North American spelling) means to make one or more letters upper case.  The first letter of a sentence is capitalised in many languages, as are the first letters of proper nouns such as names of people and places. In German, however, all nouns are capitalized. It is the only language to do that.\\n\\nIn the Latin alphabet, which is used in English, these are the upper case or capital letters:\\n\\nA,B,C,D,E,F,G,H,I,J,K,L,M,N,O,P,Q,R,S,T,U,V,W,X,Y,Z\\n\\nThese are',\n",
       " 'Cuba is an island country in the Caribbean Sea. The country is made up of the big island of Cuba, the Isla de la Juventud island (Isle of Youth), and many smaller islands. Havana is the capital of Cuba. It is the largest city. The second largest city is Santiago de Cuba. In Spanish, the capital is called \"La Habana\". Cuba is near the United States, Mexico, Haiti, Jamaica and the Bahamas. People from Cuba are called Cubans (cubanos in Spanish). The official language is Spanish. Cuba is warm all y',\n",
       " 'A cube is a type of polyhedron with all right angles and whose height, width and depth are all the  same. It is a type of rectangular prism, which is itself a type of hexahedron.\\n\\nA cube is one of the simplest mathematical shapes in space. Something that is shaped like a cube is sometimes referred to as cubic.\\nSurface area of cube=6l^2\\nLateral Surface area of cube=4l^2\\nVolume of cube=l^3\\n\\nRelative 2-dimensional shape \\nThe basic difference between a cube and a square is, a cube is a 3D figure (ha',\n",
       " 'Cost of living is the amount of money it costs just to live in a certain place.  It includes food, housing, etc.\\n\\nEconomics',\n",
       " 'December (Dec.) is the twelfth and last month of the year in the Gregorian calendar, with 31 days, coming between November and January. With the name of the month coming from the Latin decem for \"ten\", it was the tenth month of the year before January and February were added to the Roman calendar.\\n\\nDecember always begins on the same day of the week as September, and ends on the same day of the week as April.\\n\\nDecember\\'s flower is the Narcissus. Its birthstone is the turquoise.\\n\\nSome of the holid']"
      ]
     },
     "execution_count": 14,
     "metadata": {},
     "output_type": "execute_result"
    }
   ],
   "source": [
    "documents"
   ]
  },
  {
   "cell_type": "code",
   "execution_count": 15,
   "id": "236192d7",
   "metadata": {},
   "outputs": [
    {
     "name": "stdout",
     "output_type": "stream",
     "text": [
      "Wikipedia embeddings shape: (100, 384)\n",
      "\n",
      "Query: 'artificial intelligence'\n",
      "  1. Score: 0.3552\n",
      "     Text: A computer is a machine that uses electronics to input, process, store, and output data. Data is inf...\n",
      "  2. Score: 0.3520\n",
      "     Text: Computer science deals with the theoretical foundations of computation and practical techniques for ...\n",
      "  3. Score: 0.2235\n",
      "     Text: Adobe Illustrator is a computer program for making graphic design and illustrations. It is made by A...\n",
      "\n",
      "Query: 'history of computers'\n",
      "  1. Score: 0.4750\n",
      "     Text: A computer is a machine that uses electronics to input, process, store, and output data. Data is inf...\n",
      "  2. Score: 0.3906\n",
      "     Text: Computer science deals with the theoretical foundations of computation and practical techniques for ...\n",
      "  3. Score: 0.3084\n",
      "     Text: Adobe Illustrator is a computer program for making graphic design and illustrations. It is made by A...\n",
      "\n",
      "Query: 'physics and chemistry'\n",
      "  1. Score: 0.5430\n",
      "     Text: Chemistry is a branch of  science that deals with chemical elements and compounds, and how they work...\n",
      "  2. Score: 0.3513\n",
      "     Text: Atoms are very small pieces of matter. There are many different types of atoms, each with its own na...\n",
      "  3. Score: 0.2900\n",
      "     Text: Biology  is the science that studies life, and living things, and the evolution of life. Living thin...\n",
      "\n",
      "Query: 'sports and games'\n",
      "  1. Score: 0.2456\n",
      "     Text: Beijing is the capital of the People's Republic of China. The city used to be known as Peking.  It i...\n",
      "  2. Score: 0.2171\n",
      "     Text: Biology  is the science that studies life, and living things, and the evolution of life. Living thin...\n",
      "  3. Score: 0.1727\n",
      "     Text: A city is a heavily inhabited community that may include structures, buildings, bridges, rivers or l...\n"
     ]
    }
   ],
   "source": [
    "doc_embeddings = model['all-MiniLM-L6-v2'].encode(documents)\n",
    "print(f\"Wikipedia embeddings shape: {doc_embeddings.shape}\")\n",
    "\n",
    "test_queries = [\n",
    "    \"artificial intelligence\",\n",
    "    \"history of computers\", \n",
    "    \"physics and chemistry\",\n",
    "    \"sports and games\"\n",
    "]\n",
    "\n",
    "for query in test_queries:\n",
    "    query_embedding = model['all-MiniLM-L6-v2'].encode([query])\n",
    "    similarities = cosine_similarity(query_embedding, doc_embeddings)[0]\n",
    "    top_indices = np.argsort(similarities)[::-1][:3]\n",
    "    \n",
    "    print(f\"\\nQuery: '{query}'\")\n",
    "    for i, idx in enumerate(top_indices):\n",
    "        print(f\"  {i+1}. Score: {similarities[idx]:.4f}\")\n",
    "        print(f\"     Text: {documents[idx][:100]}...\")"
   ]
  },
  {
   "cell_type": "code",
   "execution_count": 17,
   "id": "88c6cdf8",
   "metadata": {},
   "outputs": [
    {
     "ename": "DatasetNotFoundError",
     "evalue": "Dataset 'sentence-transformers/wikipedia-en-embeddings' doesn't exist on the Hub or cannot be accessed.",
     "output_type": "error",
     "traceback": [
      "\u001b[31m---------------------------------------------------------------------------\u001b[39m",
      "\u001b[31mDatasetNotFoundError\u001b[39m                      Traceback (most recent call last)",
      "\u001b[36mCell\u001b[39m\u001b[36m \u001b[39m\u001b[32mIn[17]\u001b[39m\u001b[32m, line 1\u001b[39m\n\u001b[32m----> \u001b[39m\u001b[32m1\u001b[39m wiki_embeddings = \u001b[43mload_dataset\u001b[49m\u001b[43m(\u001b[49m\n\u001b[32m      2\u001b[39m \u001b[43m    \u001b[49m\u001b[33;43m\"\u001b[39;49m\u001b[33;43msentence-transformers/wikipedia-en-embeddings\u001b[39;49m\u001b[33;43m\"\u001b[39;49m\u001b[43m,\u001b[49m\u001b[43m \u001b[49m\n\u001b[32m      3\u001b[39m \u001b[43m    \u001b[49m\u001b[43msplit\u001b[49m\u001b[43m=\u001b[49m\u001b[33;43m\"\u001b[39;49m\u001b[33;43mtrain[:1000]\u001b[39;49m\u001b[33;43m\"\u001b[39;49m\u001b[43m,\u001b[49m\n\u001b[32m      4\u001b[39m \u001b[43m    \u001b[49m\u001b[43mtrust_remote_code\u001b[49m\u001b[43m=\u001b[49m\u001b[38;5;28;43;01mTrue\u001b[39;49;00m\n\u001b[32m      5\u001b[39m \u001b[43m)\u001b[49m\n\u001b[32m      7\u001b[39m embeddings = np.array(wiki_embeddings[\u001b[33m'\u001b[39m\u001b[33membeddings\u001b[39m\u001b[33m'\u001b[39m])\n\u001b[32m      8\u001b[39m texts = wiki_embeddings[\u001b[33m'\u001b[39m\u001b[33mtext\u001b[39m\u001b[33m'\u001b[39m]\n",
      "\u001b[36mFile \u001b[39m\u001b[32m/opt/homebrew/Caskroom/miniconda/base/envs/mini-search/lib/python3.12/site-packages/datasets/load.py:2129\u001b[39m, in \u001b[36mload_dataset\u001b[39m\u001b[34m(path, name, data_dir, data_files, split, cache_dir, features, download_config, download_mode, verification_mode, keep_in_memory, save_infos, revision, token, streaming, num_proc, storage_options, trust_remote_code, **config_kwargs)\u001b[39m\n\u001b[32m   2124\u001b[39m verification_mode = VerificationMode(\n\u001b[32m   2125\u001b[39m     (verification_mode \u001b[38;5;129;01mor\u001b[39;00m VerificationMode.BASIC_CHECKS) \u001b[38;5;28;01mif\u001b[39;00m \u001b[38;5;129;01mnot\u001b[39;00m save_infos \u001b[38;5;28;01melse\u001b[39;00m VerificationMode.ALL_CHECKS\n\u001b[32m   2126\u001b[39m )\n\u001b[32m   2128\u001b[39m \u001b[38;5;66;03m# Create a dataset builder\u001b[39;00m\n\u001b[32m-> \u001b[39m\u001b[32m2129\u001b[39m builder_instance = \u001b[43mload_dataset_builder\u001b[49m\u001b[43m(\u001b[49m\n\u001b[32m   2130\u001b[39m \u001b[43m    \u001b[49m\u001b[43mpath\u001b[49m\u001b[43m=\u001b[49m\u001b[43mpath\u001b[49m\u001b[43m,\u001b[49m\n\u001b[32m   2131\u001b[39m \u001b[43m    \u001b[49m\u001b[43mname\u001b[49m\u001b[43m=\u001b[49m\u001b[43mname\u001b[49m\u001b[43m,\u001b[49m\n\u001b[32m   2132\u001b[39m \u001b[43m    \u001b[49m\u001b[43mdata_dir\u001b[49m\u001b[43m=\u001b[49m\u001b[43mdata_dir\u001b[49m\u001b[43m,\u001b[49m\n\u001b[32m   2133\u001b[39m \u001b[43m    \u001b[49m\u001b[43mdata_files\u001b[49m\u001b[43m=\u001b[49m\u001b[43mdata_files\u001b[49m\u001b[43m,\u001b[49m\n\u001b[32m   2134\u001b[39m \u001b[43m    \u001b[49m\u001b[43mcache_dir\u001b[49m\u001b[43m=\u001b[49m\u001b[43mcache_dir\u001b[49m\u001b[43m,\u001b[49m\n\u001b[32m   2135\u001b[39m \u001b[43m    \u001b[49m\u001b[43mfeatures\u001b[49m\u001b[43m=\u001b[49m\u001b[43mfeatures\u001b[49m\u001b[43m,\u001b[49m\n\u001b[32m   2136\u001b[39m \u001b[43m    \u001b[49m\u001b[43mdownload_config\u001b[49m\u001b[43m=\u001b[49m\u001b[43mdownload_config\u001b[49m\u001b[43m,\u001b[49m\n\u001b[32m   2137\u001b[39m \u001b[43m    \u001b[49m\u001b[43mdownload_mode\u001b[49m\u001b[43m=\u001b[49m\u001b[43mdownload_mode\u001b[49m\u001b[43m,\u001b[49m\n\u001b[32m   2138\u001b[39m \u001b[43m    \u001b[49m\u001b[43mrevision\u001b[49m\u001b[43m=\u001b[49m\u001b[43mrevision\u001b[49m\u001b[43m,\u001b[49m\n\u001b[32m   2139\u001b[39m \u001b[43m    \u001b[49m\u001b[43mtoken\u001b[49m\u001b[43m=\u001b[49m\u001b[43mtoken\u001b[49m\u001b[43m,\u001b[49m\n\u001b[32m   2140\u001b[39m \u001b[43m    \u001b[49m\u001b[43mstorage_options\u001b[49m\u001b[43m=\u001b[49m\u001b[43mstorage_options\u001b[49m\u001b[43m,\u001b[49m\n\u001b[32m   2141\u001b[39m \u001b[43m    \u001b[49m\u001b[43mtrust_remote_code\u001b[49m\u001b[43m=\u001b[49m\u001b[43mtrust_remote_code\u001b[49m\u001b[43m,\u001b[49m\n\u001b[32m   2142\u001b[39m \u001b[43m    \u001b[49m\u001b[43m_require_default_config_name\u001b[49m\u001b[43m=\u001b[49m\u001b[43mname\u001b[49m\u001b[43m \u001b[49m\u001b[38;5;129;43;01mis\u001b[39;49;00m\u001b[43m \u001b[49m\u001b[38;5;28;43;01mNone\u001b[39;49;00m\u001b[43m,\u001b[49m\n\u001b[32m   2143\u001b[39m \u001b[43m    \u001b[49m\u001b[43m*\u001b[49m\u001b[43m*\u001b[49m\u001b[43mconfig_kwargs\u001b[49m\u001b[43m,\u001b[49m\n\u001b[32m   2144\u001b[39m \u001b[43m\u001b[49m\u001b[43m)\u001b[49m\n\u001b[32m   2146\u001b[39m \u001b[38;5;66;03m# Return iterable dataset in case of streaming\u001b[39;00m\n\u001b[32m   2147\u001b[39m \u001b[38;5;28;01mif\u001b[39;00m streaming:\n",
      "\u001b[36mFile \u001b[39m\u001b[32m/opt/homebrew/Caskroom/miniconda/base/envs/mini-search/lib/python3.12/site-packages/datasets/load.py:1849\u001b[39m, in \u001b[36mload_dataset_builder\u001b[39m\u001b[34m(path, name, data_dir, data_files, cache_dir, features, download_config, download_mode, revision, token, storage_options, trust_remote_code, _require_default_config_name, **config_kwargs)\u001b[39m\n\u001b[32m   1847\u001b[39m     download_config = download_config.copy() \u001b[38;5;28;01mif\u001b[39;00m download_config \u001b[38;5;28;01melse\u001b[39;00m DownloadConfig()\n\u001b[32m   1848\u001b[39m     download_config.storage_options.update(storage_options)\n\u001b[32m-> \u001b[39m\u001b[32m1849\u001b[39m dataset_module = \u001b[43mdataset_module_factory\u001b[49m\u001b[43m(\u001b[49m\n\u001b[32m   1850\u001b[39m \u001b[43m    \u001b[49m\u001b[43mpath\u001b[49m\u001b[43m,\u001b[49m\n\u001b[32m   1851\u001b[39m \u001b[43m    \u001b[49m\u001b[43mrevision\u001b[49m\u001b[43m=\u001b[49m\u001b[43mrevision\u001b[49m\u001b[43m,\u001b[49m\n\u001b[32m   1852\u001b[39m \u001b[43m    \u001b[49m\u001b[43mdownload_config\u001b[49m\u001b[43m=\u001b[49m\u001b[43mdownload_config\u001b[49m\u001b[43m,\u001b[49m\n\u001b[32m   1853\u001b[39m \u001b[43m    \u001b[49m\u001b[43mdownload_mode\u001b[49m\u001b[43m=\u001b[49m\u001b[43mdownload_mode\u001b[49m\u001b[43m,\u001b[49m\n\u001b[32m   1854\u001b[39m \u001b[43m    \u001b[49m\u001b[43mdata_dir\u001b[49m\u001b[43m=\u001b[49m\u001b[43mdata_dir\u001b[49m\u001b[43m,\u001b[49m\n\u001b[32m   1855\u001b[39m \u001b[43m    \u001b[49m\u001b[43mdata_files\u001b[49m\u001b[43m=\u001b[49m\u001b[43mdata_files\u001b[49m\u001b[43m,\u001b[49m\n\u001b[32m   1856\u001b[39m \u001b[43m    \u001b[49m\u001b[43mcache_dir\u001b[49m\u001b[43m=\u001b[49m\u001b[43mcache_dir\u001b[49m\u001b[43m,\u001b[49m\n\u001b[32m   1857\u001b[39m \u001b[43m    \u001b[49m\u001b[43mtrust_remote_code\u001b[49m\u001b[43m=\u001b[49m\u001b[43mtrust_remote_code\u001b[49m\u001b[43m,\u001b[49m\n\u001b[32m   1858\u001b[39m \u001b[43m    \u001b[49m\u001b[43m_require_default_config_name\u001b[49m\u001b[43m=\u001b[49m\u001b[43m_require_default_config_name\u001b[49m\u001b[43m,\u001b[49m\n\u001b[32m   1859\u001b[39m \u001b[43m    \u001b[49m\u001b[43m_require_custom_configs\u001b[49m\u001b[43m=\u001b[49m\u001b[38;5;28;43mbool\u001b[39;49m\u001b[43m(\u001b[49m\u001b[43mconfig_kwargs\u001b[49m\u001b[43m)\u001b[49m\u001b[43m,\u001b[49m\n\u001b[32m   1860\u001b[39m \u001b[43m\u001b[49m\u001b[43m)\u001b[49m\n\u001b[32m   1861\u001b[39m \u001b[38;5;66;03m# Get dataset builder class from the processing script\u001b[39;00m\n\u001b[32m   1862\u001b[39m builder_kwargs = dataset_module.builder_kwargs\n",
      "\u001b[36mFile \u001b[39m\u001b[32m/opt/homebrew/Caskroom/miniconda/base/envs/mini-search/lib/python3.12/site-packages/datasets/load.py:1719\u001b[39m, in \u001b[36mdataset_module_factory\u001b[39m\u001b[34m(path, revision, download_config, download_mode, dynamic_modules_path, data_dir, data_files, cache_dir, trust_remote_code, _require_default_config_name, _require_custom_configs, **download_kwargs)\u001b[39m\n\u001b[32m   1717\u001b[39m     \u001b[38;5;28;01mraise\u001b[39;00m \u001b[38;5;167;01mConnectionError\u001b[39;00m(\u001b[33mf\u001b[39m\u001b[33m\"\u001b[39m\u001b[33mCouldn\u001b[39m\u001b[33m'\u001b[39m\u001b[33mt reach the Hugging Face Hub for dataset \u001b[39m\u001b[33m'\u001b[39m\u001b[38;5;132;01m{\u001b[39;00mpath\u001b[38;5;132;01m}\u001b[39;00m\u001b[33m'\u001b[39m\u001b[33m: \u001b[39m\u001b[38;5;132;01m{\u001b[39;00me1\u001b[38;5;132;01m}\u001b[39;00m\u001b[33m\"\u001b[39m) \u001b[38;5;28;01mfrom\u001b[39;00m\u001b[38;5;250m \u001b[39m\u001b[38;5;28;01mNone\u001b[39;00m\n\u001b[32m   1718\u001b[39m \u001b[38;5;28;01mif\u001b[39;00m \u001b[38;5;28misinstance\u001b[39m(e1, (DataFilesNotFoundError, DatasetNotFoundError, EmptyDatasetError)):\n\u001b[32m-> \u001b[39m\u001b[32m1719\u001b[39m     \u001b[38;5;28;01mraise\u001b[39;00m e1 \u001b[38;5;28;01mfrom\u001b[39;00m\u001b[38;5;250m \u001b[39m\u001b[38;5;28;01mNone\u001b[39;00m\n\u001b[32m   1720\u001b[39m \u001b[38;5;28;01mif\u001b[39;00m \u001b[38;5;28misinstance\u001b[39m(e1, \u001b[38;5;167;01mFileNotFoundError\u001b[39;00m):\n\u001b[32m   1721\u001b[39m     \u001b[38;5;28;01mif\u001b[39;00m trust_remote_code:\n",
      "\u001b[36mFile \u001b[39m\u001b[32m/opt/homebrew/Caskroom/miniconda/base/envs/mini-search/lib/python3.12/site-packages/datasets/load.py:1645\u001b[39m, in \u001b[36mdataset_module_factory\u001b[39m\u001b[34m(path, revision, download_config, download_mode, dynamic_modules_path, data_dir, data_files, cache_dir, trust_remote_code, _require_default_config_name, _require_custom_configs, **download_kwargs)\u001b[39m\n\u001b[32m   1641\u001b[39m     \u001b[38;5;28;01mraise\u001b[39;00m DatasetNotFoundError(\n\u001b[32m   1642\u001b[39m         \u001b[33mf\u001b[39m\u001b[33m\"\u001b[39m\u001b[33mRevision \u001b[39m\u001b[33m'\u001b[39m\u001b[38;5;132;01m{\u001b[39;00mrevision\u001b[38;5;132;01m}\u001b[39;00m\u001b[33m'\u001b[39m\u001b[33m doesn\u001b[39m\u001b[33m'\u001b[39m\u001b[33mt exist for dataset \u001b[39m\u001b[33m'\u001b[39m\u001b[38;5;132;01m{\u001b[39;00mpath\u001b[38;5;132;01m}\u001b[39;00m\u001b[33m'\u001b[39m\u001b[33m on the Hub.\u001b[39m\u001b[33m\"\u001b[39m\n\u001b[32m   1643\u001b[39m     ) \u001b[38;5;28;01mfrom\u001b[39;00m\u001b[38;5;250m \u001b[39m\u001b[34;01me\u001b[39;00m\n\u001b[32m   1644\u001b[39m \u001b[38;5;28;01mexcept\u001b[39;00m RepositoryNotFoundError \u001b[38;5;28;01mas\u001b[39;00m e:\n\u001b[32m-> \u001b[39m\u001b[32m1645\u001b[39m     \u001b[38;5;28;01mraise\u001b[39;00m DatasetNotFoundError(\u001b[33mf\u001b[39m\u001b[33m\"\u001b[39m\u001b[33mDataset \u001b[39m\u001b[33m'\u001b[39m\u001b[38;5;132;01m{\u001b[39;00mpath\u001b[38;5;132;01m}\u001b[39;00m\u001b[33m'\u001b[39m\u001b[33m doesn\u001b[39m\u001b[33m'\u001b[39m\u001b[33mt exist on the Hub or cannot be accessed.\u001b[39m\u001b[33m\"\u001b[39m) \u001b[38;5;28;01mfrom\u001b[39;00m\u001b[38;5;250m \u001b[39m\u001b[34;01me\u001b[39;00m\n\u001b[32m   1646\u001b[39m \u001b[38;5;28;01mtry\u001b[39;00m:\n\u001b[32m   1647\u001b[39m     dataset_script_path = api.hf_hub_download(\n\u001b[32m   1648\u001b[39m         repo_id=path,\n\u001b[32m   1649\u001b[39m         filename=filename,\n\u001b[32m   (...)\u001b[39m\u001b[32m   1652\u001b[39m         proxies=download_config.proxies,\n\u001b[32m   1653\u001b[39m     )\n",
      "\u001b[31mDatasetNotFoundError\u001b[39m: Dataset 'sentence-transformers/wikipedia-en-embeddings' doesn't exist on the Hub or cannot be accessed."
     ]
    }
   ],
   "source": [
    "wiki_embeddings = load_dataset(\n",
    "    \"sentence-transformers/wikipedia-en-embeddings\", \n",
    "    split=\"train[:1000]\",\n",
    "    trust_remote_code=True\n",
    ")\n",
    "\n",
    "embeddings = np.array(wiki_embeddings['embeddings'])\n",
    "texts = wiki_embeddings['text']\n",
    "\n",
    "query = \"artificial intelligence\"\n",
    "query_embedding = model['all-MiniLM-L6-v2'].encode([query])\n",
    "\n",
    "similarities = cosine_similarity(query_embedding, embeddings)[0]\n",
    "top_indices = np.argsort(similarities)[::-1][:5]\n",
    "\n",
    "print(\"Pre-computed Wikipedia results (all-MiniLM-L6-v2):\")\n",
    "for i, idx in enumerate(top_indices):\n",
    "    print(f\"{i+1}. Score: {similarities[idx]:.4f}\")\n",
    "    print(f\"   Text: {texts[idx][:100]}...\")"
   ]
  },
  {
   "cell_type": "code",
   "execution_count": 19,
   "id": "b993611f",
   "metadata": {},
   "outputs": [
    {
     "name": "stdout",
     "output_type": "stream",
     "text": [
      "Dataset size: 67.17 GB\n",
      "Download size: 79.98 GB\n"
     ]
    }
   ],
   "source": [
    "from datasets import load_dataset_builder\n",
    "\n",
    "builder = load_dataset_builder(\"maloyan/wikipedia-22-12-en-embeddings-all-MiniLM-L6-v2\")\n",
    "\n",
    "dataset_size_gb = builder.info.dataset_size / (1024**3)\n",
    "download_size_gb = builder.info.download_size / (1024**3)\n",
    "\n",
    "print(f\"Dataset size: {dataset_size_gb:.2f} GB\")\n",
    "print(f\"Download size: {download_size_gb:.2f} GB\")"
   ]
  },
  {
   "cell_type": "code",
   "execution_count": null,
   "id": "64b6b99d",
   "metadata": {},
   "outputs": [
    {
     "name": "stderr",
     "output_type": "stream",
     "text": [
      "Downloading data:  12%|█▏        | 18/145 [09:44<1:08:27, 32.34s/files]"
     ]
    }
   ],
   "source": [
    "ds_small = load_dataset(\"maloyan/wikipedia-22-12-en-embeddings-all-MiniLM-L6-v2\", split=\"train[:100]\")\n",
    "print(f\"Loaded sample: {len(ds_small)} rows\")"
   ]
  },
  {
   "cell_type": "code",
   "execution_count": null,
   "id": "925b9fd7",
   "metadata": {},
   "outputs": [],
   "source": [
    "model = SentenceTransformer('all-MiniLM-L6-v2')\n",
    "\n",
    "embeddings = np.array(ds_small['embeddings'])\n",
    "texts = ds_small['text']\n",
    "\n",
    "def search(query, top_k=3):\n",
    "    query_embedding = model.encode([query])\n",
    "    similarities = cosine_similarity(query_embedding, embeddings)[0]\n",
    "    top_indices = np.argsort(similarities)[::-1][:top_k]\n",
    "    \n",
    "    results = []\n",
    "    for idx in top_indices:\n",
    "        results.append({\n",
    "            'text': texts[idx],\n",
    "            'score': similarities[idx]\n",
    "        })\n",
    "    return results\n",
    "\n",
    "query = \"artificial intelligence\"\n",
    "results = search(query)\n",
    "\n",
    "for i, result in enumerate(results):\n",
    "    print(f\"{i+1}. Score: {result['score']:.4f}\")\n",
    "    print(f\""
   ]
  }
 ],
 "metadata": {
  "kernelspec": {
   "display_name": "mini-search",
   "language": "python",
   "name": "python3"
  },
  "language_info": {
   "codemirror_mode": {
    "name": "ipython",
    "version": 3
   },
   "file_extension": ".py",
   "mimetype": "text/x-python",
   "name": "python",
   "nbconvert_exporter": "python",
   "pygments_lexer": "ipython3",
   "version": "3.12.11"
  }
 },
 "nbformat": 4,
 "nbformat_minor": 5
}
